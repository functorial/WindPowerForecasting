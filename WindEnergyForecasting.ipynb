{
 "metadata": {
  "language_info": {
   "codemirror_mode": {
    "name": "ipython",
    "version": 3
   },
   "file_extension": ".py",
   "mimetype": "text/x-python",
   "name": "python",
   "nbconvert_exporter": "python",
   "pygments_lexer": "ipython3",
   "version": "3.7.6"
  },
  "orig_nbformat": 4,
  "kernelspec": {
   "name": "python3",
   "display_name": "Python 3.7.6 64-bit (conda)"
  },
  "interpreter": {
   "hash": "b4cb4ac70b111a9bf820d5b785af366de1a1aff3bb446428c209e77abcd2b9b4"
  }
 },
 "nbformat": 4,
 "nbformat_minor": 2,
 "cells": [
  {
   "source": [
    "# Wind Power Forecasting\n",
    "\n",
    "### Context\n",
    "Here's data of a certain windmill. The aim was to predict the wind power that could be generated from the windmill for the next 15 days. A long term wind forecasting technique is thus required.\n",
    "\n",
    "### Content\n",
    "It contains various weather, turbine and rotor features. Data has been recorded from January 2018 till March 2020. Readings have been recorded at a 10-minute interval.\n",
    "\n",
    "### Task Details\n",
    "The aim is to use multistep time series forecasting to predict power that can be generated from the windmill for the next 15 days.\n",
    "\n",
    "### Expected Submission\n",
    "Feel free to use the data to get a feel of multivariate time series analysis. Note that wind speed is a very unpredictable variable so be prepared to handle a very noisy time series!\n",
    "\n",
    "### Evaluation\n",
    "Clear and concise code with a model that results in a low mean absolute error.\n",
    "\n",
    "### Interesting Observation\n",
    "A hybrid ARIMA-ANN model has been tested and given good results for modelling a single variable. Check out the paper\n",
    "https://www.sciencedirect.com/science/article/abs/pii/S0925231201007020"
   ],
   "cell_type": "markdown",
   "metadata": {}
  },
  {
   "cell_type": "code",
   "execution_count": 1,
   "metadata": {},
   "outputs": [],
   "source": [
    "import pandas as pd\n",
    "import numpy as np\n",
    "import matplotlib.pyplot as plt\n"
   ]
  },
  {
   "cell_type": "code",
   "execution_count": 2,
   "metadata": {},
   "outputs": [
    {
     "output_type": "stream",
     "name": "stdout",
     "text": [
      "<class 'pandas.core.frame.DataFrame'>\nIndex: 118224 entries, 2017-12-31 00:00 to 2020-03-30 23:50\nData columns (total 21 columns):\n #   Column                        Non-Null Count   Dtype  \n---  ------                        --------------   -----  \n 0   ActivePower                   94750 non-null   float64\n 1   AmbientTemperature            93817 non-null   float64\n 2   BearingShaftTemperature       62518 non-null   float64\n 3   Blade1PitchAngle              41996 non-null   float64\n 4   Blade2PitchAngle              41891 non-null   float64\n 5   Blade3PitchAngle              41891 non-null   float64\n 6   ControlBoxTemperature         62160 non-null   float64\n 7   GearboxBearingTemperature     62540 non-null   float64\n 8   GearboxOilTemperature         62438 non-null   float64\n 9   GeneratorRPM                  62295 non-null   float64\n 10  GeneratorWinding1Temperature  62427 non-null   float64\n 11  GeneratorWinding2Temperature  62449 non-null   float64\n 12  HubTemperature                62406 non-null   float64\n 13  MainBoxTemperature            62507 non-null   float64\n 14  NacellePosition               72278 non-null   float64\n 15  ReactivePower                 94748 non-null   float64\n 16  RotorRPM                      62127 non-null   float64\n 17  TurbineStatus                 62908 non-null   float64\n 18  WTG                           118224 non-null  object \n 19  WindDirection                 72278 non-null   float64\n 20  WindSpeed                     94595 non-null   float64\ndtypes: float64(20), object(1)\nmemory usage: 19.8+ MB\n"
     ]
    }
   ],
   "source": [
    "# Unnamed column is actually DateTimes\n",
    "df = pd.read_csv(\"Turbine_Data.csv\", parse_dates=['Unnamed: 0'])\n",
    "\n",
    "df.rename(columns={'Unnamed: 0':'DateTime', 'AmbientTemperatue':'AmbientTemperature'}, inplace=True)\n",
    "df['DateTime'] = df['DateTime'].dt.strftime('%Y-%m-%d %H:%M')\n",
    "df = df.set_index('DateTime')\n",
    "\n",
    "df.info()"
   ]
  },
  {
   "cell_type": "code",
   "execution_count": 3,
   "metadata": {},
   "outputs": [
    {
     "output_type": "execute_result",
     "data": {
      "text/plain": [
       "                  ActivePower  AmbientTemperature  BearingShaftTemperature  \\\n",
       "DateTime                                                                     \n",
       "2020-03-30 23:10    70.044465           27.523741                45.711129   \n",
       "2020-03-30 23:20    40.833474           27.602882                45.598573   \n",
       "2020-03-30 23:30    20.777790           27.560925                45.462045   \n",
       "2020-03-30 23:40    62.091039           27.810472                45.343827   \n",
       "2020-03-30 23:50    68.664425           27.915828                45.231610   \n",
       "\n",
       "                  Blade1PitchAngle  Blade2PitchAngle  Blade3PitchAngle  \\\n",
       "DateTime                                                                 \n",
       "2020-03-30 23:10          1.515669          1.950088          1.950088   \n",
       "2020-03-30 23:20          1.702809          2.136732          2.136732   \n",
       "2020-03-30 23:30          1.706214          2.139664          2.139664   \n",
       "2020-03-30 23:40          1.575352          2.009781          2.009781   \n",
       "2020-03-30 23:50          1.499323          1.933124          1.933124   \n",
       "\n",
       "                  ControlBoxTemperature  GearboxBearingTemperature  \\\n",
       "DateTime                                                             \n",
       "2020-03-30 23:10                    0.0                  59.821165   \n",
       "2020-03-30 23:20                    0.0                  59.142038   \n",
       "2020-03-30 23:30                    0.0                  58.439439   \n",
       "2020-03-30 23:40                    0.0                  58.205413   \n",
       "2020-03-30 23:50                    0.0                  58.581716   \n",
       "\n",
       "                  GearboxOilTemperature  GeneratorRPM  \\\n",
       "DateTime                                                \n",
       "2020-03-30 23:10              55.193793   1029.870744   \n",
       "2020-03-30 23:20              54.798545   1030.160478   \n",
       "2020-03-30 23:30              54.380456   1030.137822   \n",
       "2020-03-30 23:40              54.079014   1030.178178   \n",
       "2020-03-30 23:50              54.080505   1029.834789   \n",
       "\n",
       "                  GeneratorWinding1Temperature  GeneratorWinding2Temperature  \\\n",
       "DateTime                                                                       \n",
       "2020-03-30 23:10                     59.060367                     58.148777   \n",
       "2020-03-30 23:20                     58.452003                     57.550367   \n",
       "2020-03-30 23:30                     58.034071                     57.099335   \n",
       "2020-03-30 23:40                     57.795387                     56.847239   \n",
       "2020-03-30 23:50                     57.694813                     56.741040   \n",
       "\n",
       "                  HubTemperature  MainBoxTemperature  NacellePosition  \\\n",
       "DateTime                                                                \n",
       "2020-03-30 23:10       39.008931           36.476562            178.0   \n",
       "2020-03-30 23:20       39.006759           36.328125            178.0   \n",
       "2020-03-30 23:30       39.003815           36.131944            178.0   \n",
       "2020-03-30 23:40       39.003815           36.007805            190.0   \n",
       "2020-03-30 23:50       39.003815           35.914062            203.0   \n",
       "\n",
       "                  ReactivePower  RotorRPM  TurbineStatus  WTG  WindDirection  \\\n",
       "DateTime                                                                       \n",
       "2020-03-30 23:10      13.775785  9.234004            2.0  G01          178.0   \n",
       "2020-03-30 23:20       8.088928  9.229370            2.0  G01          178.0   \n",
       "2020-03-30 23:30       4.355978  9.236802            2.0  G01          178.0   \n",
       "2020-03-30 23:40      12.018077  9.237374            2.0  G01          190.0   \n",
       "2020-03-30 23:50      14.439669  9.235532            2.0  G01          203.0   \n",
       "\n",
       "                  WindSpeed  \n",
       "DateTime                     \n",
       "2020-03-30 23:10   3.533445  \n",
       "2020-03-30 23:20   3.261231  \n",
       "2020-03-30 23:30   3.331839  \n",
       "2020-03-30 23:40   3.284468  \n",
       "2020-03-30 23:50   3.475205  "
      ],
      "text/html": "<div>\n<style scoped>\n    .dataframe tbody tr th:only-of-type {\n        vertical-align: middle;\n    }\n\n    .dataframe tbody tr th {\n        vertical-align: top;\n    }\n\n    .dataframe thead th {\n        text-align: right;\n    }\n</style>\n<table border=\"1\" class=\"dataframe\">\n  <thead>\n    <tr style=\"text-align: right;\">\n      <th></th>\n      <th>ActivePower</th>\n      <th>AmbientTemperature</th>\n      <th>BearingShaftTemperature</th>\n      <th>Blade1PitchAngle</th>\n      <th>Blade2PitchAngle</th>\n      <th>Blade3PitchAngle</th>\n      <th>ControlBoxTemperature</th>\n      <th>GearboxBearingTemperature</th>\n      <th>GearboxOilTemperature</th>\n      <th>GeneratorRPM</th>\n      <th>GeneratorWinding1Temperature</th>\n      <th>GeneratorWinding2Temperature</th>\n      <th>HubTemperature</th>\n      <th>MainBoxTemperature</th>\n      <th>NacellePosition</th>\n      <th>ReactivePower</th>\n      <th>RotorRPM</th>\n      <th>TurbineStatus</th>\n      <th>WTG</th>\n      <th>WindDirection</th>\n      <th>WindSpeed</th>\n    </tr>\n    <tr>\n      <th>DateTime</th>\n      <th></th>\n      <th></th>\n      <th></th>\n      <th></th>\n      <th></th>\n      <th></th>\n      <th></th>\n      <th></th>\n      <th></th>\n      <th></th>\n      <th></th>\n      <th></th>\n      <th></th>\n      <th></th>\n      <th></th>\n      <th></th>\n      <th></th>\n      <th></th>\n      <th></th>\n      <th></th>\n      <th></th>\n    </tr>\n  </thead>\n  <tbody>\n    <tr>\n      <th>2020-03-30 23:10</th>\n      <td>70.044465</td>\n      <td>27.523741</td>\n      <td>45.711129</td>\n      <td>1.515669</td>\n      <td>1.950088</td>\n      <td>1.950088</td>\n      <td>0.0</td>\n      <td>59.821165</td>\n      <td>55.193793</td>\n      <td>1029.870744</td>\n      <td>59.060367</td>\n      <td>58.148777</td>\n      <td>39.008931</td>\n      <td>36.476562</td>\n      <td>178.0</td>\n      <td>13.775785</td>\n      <td>9.234004</td>\n      <td>2.0</td>\n      <td>G01</td>\n      <td>178.0</td>\n      <td>3.533445</td>\n    </tr>\n    <tr>\n      <th>2020-03-30 23:20</th>\n      <td>40.833474</td>\n      <td>27.602882</td>\n      <td>45.598573</td>\n      <td>1.702809</td>\n      <td>2.136732</td>\n      <td>2.136732</td>\n      <td>0.0</td>\n      <td>59.142038</td>\n      <td>54.798545</td>\n      <td>1030.160478</td>\n      <td>58.452003</td>\n      <td>57.550367</td>\n      <td>39.006759</td>\n      <td>36.328125</td>\n      <td>178.0</td>\n      <td>8.088928</td>\n      <td>9.229370</td>\n      <td>2.0</td>\n      <td>G01</td>\n      <td>178.0</td>\n      <td>3.261231</td>\n    </tr>\n    <tr>\n      <th>2020-03-30 23:30</th>\n      <td>20.777790</td>\n      <td>27.560925</td>\n      <td>45.462045</td>\n      <td>1.706214</td>\n      <td>2.139664</td>\n      <td>2.139664</td>\n      <td>0.0</td>\n      <td>58.439439</td>\n      <td>54.380456</td>\n      <td>1030.137822</td>\n      <td>58.034071</td>\n      <td>57.099335</td>\n      <td>39.003815</td>\n      <td>36.131944</td>\n      <td>178.0</td>\n      <td>4.355978</td>\n      <td>9.236802</td>\n      <td>2.0</td>\n      <td>G01</td>\n      <td>178.0</td>\n      <td>3.331839</td>\n    </tr>\n    <tr>\n      <th>2020-03-30 23:40</th>\n      <td>62.091039</td>\n      <td>27.810472</td>\n      <td>45.343827</td>\n      <td>1.575352</td>\n      <td>2.009781</td>\n      <td>2.009781</td>\n      <td>0.0</td>\n      <td>58.205413</td>\n      <td>54.079014</td>\n      <td>1030.178178</td>\n      <td>57.795387</td>\n      <td>56.847239</td>\n      <td>39.003815</td>\n      <td>36.007805</td>\n      <td>190.0</td>\n      <td>12.018077</td>\n      <td>9.237374</td>\n      <td>2.0</td>\n      <td>G01</td>\n      <td>190.0</td>\n      <td>3.284468</td>\n    </tr>\n    <tr>\n      <th>2020-03-30 23:50</th>\n      <td>68.664425</td>\n      <td>27.915828</td>\n      <td>45.231610</td>\n      <td>1.499323</td>\n      <td>1.933124</td>\n      <td>1.933124</td>\n      <td>0.0</td>\n      <td>58.581716</td>\n      <td>54.080505</td>\n      <td>1029.834789</td>\n      <td>57.694813</td>\n      <td>56.741040</td>\n      <td>39.003815</td>\n      <td>35.914062</td>\n      <td>203.0</td>\n      <td>14.439669</td>\n      <td>9.235532</td>\n      <td>2.0</td>\n      <td>G01</td>\n      <td>203.0</td>\n      <td>3.475205</td>\n    </tr>\n  </tbody>\n</table>\n</div>"
     },
     "metadata": {},
     "execution_count": 3
    }
   ],
   "source": [
    "pd.set_option('display.max_columns', None)\n",
    "df.tail()"
   ]
  },
  {
   "cell_type": "code",
   "execution_count": 4,
   "metadata": {},
   "outputs": [
    {
     "output_type": "execute_result",
     "data": {
      "text/plain": [
       "G01    118224\n",
       "Name: WTG, dtype: int64"
      ]
     },
     "metadata": {},
     "execution_count": 4
    }
   ],
   "source": [
    "df['WTG'].value_counts()    # Constant column"
   ]
  },
  {
   "cell_type": "code",
   "execution_count": 5,
   "metadata": {},
   "outputs": [
    {
     "output_type": "execute_result",
     "data": {
      "text/plain": [
       "0.0    62160\n",
       "Name: ControlBoxTemperature, dtype: int64"
      ]
     },
     "metadata": {},
     "execution_count": 5
    }
   ],
   "source": [
    "df['ControlBoxTemperature'].value_counts()  # Constant column"
   ]
  },
  {
   "cell_type": "code",
   "execution_count": 6,
   "metadata": {},
   "outputs": [],
   "source": [
    "# No need for constant columns\n",
    "# Note: All columns are now of type float64\n",
    "\n",
    "df.drop(columns=['WTG', 'ControlBoxTemperature'], inplace=True)"
   ]
  },
  {
   "cell_type": "code",
   "execution_count": 7,
   "metadata": {},
   "outputs": [
    {
     "output_type": "execute_result",
     "data": {
      "text/plain": [
       "ActivePower                     23474\n",
       "AmbientTemperature              24407\n",
       "BearingShaftTemperature         55706\n",
       "Blade1PitchAngle                76228\n",
       "Blade2PitchAngle                76333\n",
       "Blade3PitchAngle                76333\n",
       "GearboxBearingTemperature       55684\n",
       "GearboxOilTemperature           55786\n",
       "GeneratorRPM                    55929\n",
       "GeneratorWinding1Temperature    55797\n",
       "GeneratorWinding2Temperature    55775\n",
       "HubTemperature                  55818\n",
       "MainBoxTemperature              55717\n",
       "NacellePosition                 45946\n",
       "ReactivePower                   23476\n",
       "RotorRPM                        56097\n",
       "TurbineStatus                   55316\n",
       "WindDirection                   45946\n",
       "WindSpeed                       23629\n",
       "dtype: int64"
      ]
     },
     "metadata": {},
     "execution_count": 7
    }
   ],
   "source": [
    "# We have missing data\n",
    "df.isnull().sum()"
   ]
  },
  {
   "cell_type": "code",
   "execution_count": 8,
   "metadata": {},
   "outputs": [
    {
     "output_type": "execute_result",
     "data": {
      "text/plain": [
       "ActivePower                       144\n",
       "AmbientTemperature                144\n",
       "BearingShaftTemperature         33065\n",
       "Blade1PitchAngle                70789\n",
       "Blade2PitchAngle                70789\n",
       "Blade3PitchAngle                70789\n",
       "GearboxBearingTemperature       33065\n",
       "GearboxOilTemperature           33065\n",
       "GeneratorRPM                    33065\n",
       "GeneratorWinding1Temperature    33065\n",
       "GeneratorWinding2Temperature    33065\n",
       "HubTemperature                  33065\n",
       "MainBoxTemperature              33065\n",
       "NacellePosition                   144\n",
       "ReactivePower                     144\n",
       "RotorRPM                        33065\n",
       "TurbineStatus                   33073\n",
       "WindDirection                     144\n",
       "WindSpeed                         144\n",
       "dtype: int64"
      ]
     },
     "metadata": {},
     "execution_count": 8
    }
   ],
   "source": [
    "# Let's use linear interpolation to impute missing values\n",
    "\n",
    "df.interpolate(method='linear', inplace=True)\n",
    "df.isnull().sum()\n"
   ]
  },
  {
   "cell_type": "code",
   "execution_count": 9,
   "metadata": {},
   "outputs": [
    {
     "output_type": "execute_result",
     "data": {
      "text/plain": [
       "                  ActivePower  AmbientTemperature  BearingShaftTemperature  \\\n",
       "DateTime                                                                     \n",
       "2017-12-31 00:00          NaN                 NaN                      NaN   \n",
       "2017-12-31 00:10          NaN                 NaN                      NaN   \n",
       "2017-12-31 00:20          NaN                 NaN                      NaN   \n",
       "2017-12-31 00:30          NaN                 NaN                      NaN   \n",
       "2017-12-31 00:40          NaN                 NaN                      NaN   \n",
       "...                       ...                 ...                      ...   \n",
       "2017-12-31 23:20          NaN                 NaN                      NaN   \n",
       "2017-12-31 23:30          NaN                 NaN                      NaN   \n",
       "2017-12-31 23:40          NaN                 NaN                      NaN   \n",
       "2017-12-31 23:50          NaN                 NaN                      NaN   \n",
       "2018-01-01 00:00    -5.357727           23.148729                      NaN   \n",
       "\n",
       "                  Blade1PitchAngle  Blade2PitchAngle  Blade3PitchAngle  \\\n",
       "DateTime                                                                 \n",
       "2017-12-31 00:00               NaN               NaN               NaN   \n",
       "2017-12-31 00:10               NaN               NaN               NaN   \n",
       "2017-12-31 00:20               NaN               NaN               NaN   \n",
       "2017-12-31 00:30               NaN               NaN               NaN   \n",
       "2017-12-31 00:40               NaN               NaN               NaN   \n",
       "...                            ...               ...               ...   \n",
       "2017-12-31 23:20               NaN               NaN               NaN   \n",
       "2017-12-31 23:30               NaN               NaN               NaN   \n",
       "2017-12-31 23:40               NaN               NaN               NaN   \n",
       "2017-12-31 23:50               NaN               NaN               NaN   \n",
       "2018-01-01 00:00               NaN               NaN               NaN   \n",
       "\n",
       "                  GearboxBearingTemperature  GearboxOilTemperature  \\\n",
       "DateTime                                                             \n",
       "2017-12-31 00:00                        NaN                    NaN   \n",
       "2017-12-31 00:10                        NaN                    NaN   \n",
       "2017-12-31 00:20                        NaN                    NaN   \n",
       "2017-12-31 00:30                        NaN                    NaN   \n",
       "2017-12-31 00:40                        NaN                    NaN   \n",
       "...                                     ...                    ...   \n",
       "2017-12-31 23:20                        NaN                    NaN   \n",
       "2017-12-31 23:30                        NaN                    NaN   \n",
       "2017-12-31 23:40                        NaN                    NaN   \n",
       "2017-12-31 23:50                        NaN                    NaN   \n",
       "2018-01-01 00:00                        NaN                    NaN   \n",
       "\n",
       "                  GeneratorRPM  GeneratorWinding1Temperature  \\\n",
       "DateTime                                                       \n",
       "2017-12-31 00:00           NaN                           NaN   \n",
       "2017-12-31 00:10           NaN                           NaN   \n",
       "2017-12-31 00:20           NaN                           NaN   \n",
       "2017-12-31 00:30           NaN                           NaN   \n",
       "2017-12-31 00:40           NaN                           NaN   \n",
       "...                        ...                           ...   \n",
       "2017-12-31 23:20           NaN                           NaN   \n",
       "2017-12-31 23:30           NaN                           NaN   \n",
       "2017-12-31 23:40           NaN                           NaN   \n",
       "2017-12-31 23:50           NaN                           NaN   \n",
       "2018-01-01 00:00           NaN                           NaN   \n",
       "\n",
       "                  GeneratorWinding2Temperature  HubTemperature  \\\n",
       "DateTime                                                         \n",
       "2017-12-31 00:00                           NaN             NaN   \n",
       "2017-12-31 00:10                           NaN             NaN   \n",
       "2017-12-31 00:20                           NaN             NaN   \n",
       "2017-12-31 00:30                           NaN             NaN   \n",
       "2017-12-31 00:40                           NaN             NaN   \n",
       "...                                        ...             ...   \n",
       "2017-12-31 23:20                           NaN             NaN   \n",
       "2017-12-31 23:30                           NaN             NaN   \n",
       "2017-12-31 23:40                           NaN             NaN   \n",
       "2017-12-31 23:50                           NaN             NaN   \n",
       "2018-01-01 00:00                           NaN             NaN   \n",
       "\n",
       "                  MainBoxTemperature  NacellePosition  ReactivePower  \\\n",
       "DateTime                                                               \n",
       "2017-12-31 00:00                 NaN              NaN            NaN   \n",
       "2017-12-31 00:10                 NaN              NaN            NaN   \n",
       "2017-12-31 00:20                 NaN              NaN            NaN   \n",
       "2017-12-31 00:30                 NaN              NaN            NaN   \n",
       "2017-12-31 00:40                 NaN              NaN            NaN   \n",
       "...                              ...              ...            ...   \n",
       "2017-12-31 23:20                 NaN              NaN            NaN   \n",
       "2017-12-31 23:30                 NaN              NaN            NaN   \n",
       "2017-12-31 23:40                 NaN              NaN            NaN   \n",
       "2017-12-31 23:50                 NaN              NaN            NaN   \n",
       "2018-01-01 00:00                 NaN              8.0       -9.96083   \n",
       "\n",
       "                  RotorRPM  TurbineStatus  WindDirection  WindSpeed  \n",
       "DateTime                                                             \n",
       "2017-12-31 00:00       NaN            NaN            NaN        NaN  \n",
       "2017-12-31 00:10       NaN            NaN            NaN        NaN  \n",
       "2017-12-31 00:20       NaN            NaN            NaN        NaN  \n",
       "2017-12-31 00:30       NaN            NaN            NaN        NaN  \n",
       "2017-12-31 00:40       NaN            NaN            NaN        NaN  \n",
       "...                    ...            ...            ...        ...  \n",
       "2017-12-31 23:20       NaN            NaN            NaN        NaN  \n",
       "2017-12-31 23:30       NaN            NaN            NaN        NaN  \n",
       "2017-12-31 23:40       NaN            NaN            NaN        NaN  \n",
       "2017-12-31 23:50       NaN            NaN            NaN        NaN  \n",
       "2018-01-01 00:00       NaN            NaN            8.0   2.279088  \n",
       "\n",
       "[145 rows x 19 columns]"
      ],
      "text/html": "<div>\n<style scoped>\n    .dataframe tbody tr th:only-of-type {\n        vertical-align: middle;\n    }\n\n    .dataframe tbody tr th {\n        vertical-align: top;\n    }\n\n    .dataframe thead th {\n        text-align: right;\n    }\n</style>\n<table border=\"1\" class=\"dataframe\">\n  <thead>\n    <tr style=\"text-align: right;\">\n      <th></th>\n      <th>ActivePower</th>\n      <th>AmbientTemperature</th>\n      <th>BearingShaftTemperature</th>\n      <th>Blade1PitchAngle</th>\n      <th>Blade2PitchAngle</th>\n      <th>Blade3PitchAngle</th>\n      <th>GearboxBearingTemperature</th>\n      <th>GearboxOilTemperature</th>\n      <th>GeneratorRPM</th>\n      <th>GeneratorWinding1Temperature</th>\n      <th>GeneratorWinding2Temperature</th>\n      <th>HubTemperature</th>\n      <th>MainBoxTemperature</th>\n      <th>NacellePosition</th>\n      <th>ReactivePower</th>\n      <th>RotorRPM</th>\n      <th>TurbineStatus</th>\n      <th>WindDirection</th>\n      <th>WindSpeed</th>\n    </tr>\n    <tr>\n      <th>DateTime</th>\n      <th></th>\n      <th></th>\n      <th></th>\n      <th></th>\n      <th></th>\n      <th></th>\n      <th></th>\n      <th></th>\n      <th></th>\n      <th></th>\n      <th></th>\n      <th></th>\n      <th></th>\n      <th></th>\n      <th></th>\n      <th></th>\n      <th></th>\n      <th></th>\n      <th></th>\n    </tr>\n  </thead>\n  <tbody>\n    <tr>\n      <th>2017-12-31 00:00</th>\n      <td>NaN</td>\n      <td>NaN</td>\n      <td>NaN</td>\n      <td>NaN</td>\n      <td>NaN</td>\n      <td>NaN</td>\n      <td>NaN</td>\n      <td>NaN</td>\n      <td>NaN</td>\n      <td>NaN</td>\n      <td>NaN</td>\n      <td>NaN</td>\n      <td>NaN</td>\n      <td>NaN</td>\n      <td>NaN</td>\n      <td>NaN</td>\n      <td>NaN</td>\n      <td>NaN</td>\n      <td>NaN</td>\n    </tr>\n    <tr>\n      <th>2017-12-31 00:10</th>\n      <td>NaN</td>\n      <td>NaN</td>\n      <td>NaN</td>\n      <td>NaN</td>\n      <td>NaN</td>\n      <td>NaN</td>\n      <td>NaN</td>\n      <td>NaN</td>\n      <td>NaN</td>\n      <td>NaN</td>\n      <td>NaN</td>\n      <td>NaN</td>\n      <td>NaN</td>\n      <td>NaN</td>\n      <td>NaN</td>\n      <td>NaN</td>\n      <td>NaN</td>\n      <td>NaN</td>\n      <td>NaN</td>\n    </tr>\n    <tr>\n      <th>2017-12-31 00:20</th>\n      <td>NaN</td>\n      <td>NaN</td>\n      <td>NaN</td>\n      <td>NaN</td>\n      <td>NaN</td>\n      <td>NaN</td>\n      <td>NaN</td>\n      <td>NaN</td>\n      <td>NaN</td>\n      <td>NaN</td>\n      <td>NaN</td>\n      <td>NaN</td>\n      <td>NaN</td>\n      <td>NaN</td>\n      <td>NaN</td>\n      <td>NaN</td>\n      <td>NaN</td>\n      <td>NaN</td>\n      <td>NaN</td>\n    </tr>\n    <tr>\n      <th>2017-12-31 00:30</th>\n      <td>NaN</td>\n      <td>NaN</td>\n      <td>NaN</td>\n      <td>NaN</td>\n      <td>NaN</td>\n      <td>NaN</td>\n      <td>NaN</td>\n      <td>NaN</td>\n      <td>NaN</td>\n      <td>NaN</td>\n      <td>NaN</td>\n      <td>NaN</td>\n      <td>NaN</td>\n      <td>NaN</td>\n      <td>NaN</td>\n      <td>NaN</td>\n      <td>NaN</td>\n      <td>NaN</td>\n      <td>NaN</td>\n    </tr>\n    <tr>\n      <th>2017-12-31 00:40</th>\n      <td>NaN</td>\n      <td>NaN</td>\n      <td>NaN</td>\n      <td>NaN</td>\n      <td>NaN</td>\n      <td>NaN</td>\n      <td>NaN</td>\n      <td>NaN</td>\n      <td>NaN</td>\n      <td>NaN</td>\n      <td>NaN</td>\n      <td>NaN</td>\n      <td>NaN</td>\n      <td>NaN</td>\n      <td>NaN</td>\n      <td>NaN</td>\n      <td>NaN</td>\n      <td>NaN</td>\n      <td>NaN</td>\n    </tr>\n    <tr>\n      <th>...</th>\n      <td>...</td>\n      <td>...</td>\n      <td>...</td>\n      <td>...</td>\n      <td>...</td>\n      <td>...</td>\n      <td>...</td>\n      <td>...</td>\n      <td>...</td>\n      <td>...</td>\n      <td>...</td>\n      <td>...</td>\n      <td>...</td>\n      <td>...</td>\n      <td>...</td>\n      <td>...</td>\n      <td>...</td>\n      <td>...</td>\n      <td>...</td>\n    </tr>\n    <tr>\n      <th>2017-12-31 23:20</th>\n      <td>NaN</td>\n      <td>NaN</td>\n      <td>NaN</td>\n      <td>NaN</td>\n      <td>NaN</td>\n      <td>NaN</td>\n      <td>NaN</td>\n      <td>NaN</td>\n      <td>NaN</td>\n      <td>NaN</td>\n      <td>NaN</td>\n      <td>NaN</td>\n      <td>NaN</td>\n      <td>NaN</td>\n      <td>NaN</td>\n      <td>NaN</td>\n      <td>NaN</td>\n      <td>NaN</td>\n      <td>NaN</td>\n    </tr>\n    <tr>\n      <th>2017-12-31 23:30</th>\n      <td>NaN</td>\n      <td>NaN</td>\n      <td>NaN</td>\n      <td>NaN</td>\n      <td>NaN</td>\n      <td>NaN</td>\n      <td>NaN</td>\n      <td>NaN</td>\n      <td>NaN</td>\n      <td>NaN</td>\n      <td>NaN</td>\n      <td>NaN</td>\n      <td>NaN</td>\n      <td>NaN</td>\n      <td>NaN</td>\n      <td>NaN</td>\n      <td>NaN</td>\n      <td>NaN</td>\n      <td>NaN</td>\n    </tr>\n    <tr>\n      <th>2017-12-31 23:40</th>\n      <td>NaN</td>\n      <td>NaN</td>\n      <td>NaN</td>\n      <td>NaN</td>\n      <td>NaN</td>\n      <td>NaN</td>\n      <td>NaN</td>\n      <td>NaN</td>\n      <td>NaN</td>\n      <td>NaN</td>\n      <td>NaN</td>\n      <td>NaN</td>\n      <td>NaN</td>\n      <td>NaN</td>\n      <td>NaN</td>\n      <td>NaN</td>\n      <td>NaN</td>\n      <td>NaN</td>\n      <td>NaN</td>\n    </tr>\n    <tr>\n      <th>2017-12-31 23:50</th>\n      <td>NaN</td>\n      <td>NaN</td>\n      <td>NaN</td>\n      <td>NaN</td>\n      <td>NaN</td>\n      <td>NaN</td>\n      <td>NaN</td>\n      <td>NaN</td>\n      <td>NaN</td>\n      <td>NaN</td>\n      <td>NaN</td>\n      <td>NaN</td>\n      <td>NaN</td>\n      <td>NaN</td>\n      <td>NaN</td>\n      <td>NaN</td>\n      <td>NaN</td>\n      <td>NaN</td>\n      <td>NaN</td>\n    </tr>\n    <tr>\n      <th>2018-01-01 00:00</th>\n      <td>-5.357727</td>\n      <td>23.148729</td>\n      <td>NaN</td>\n      <td>NaN</td>\n      <td>NaN</td>\n      <td>NaN</td>\n      <td>NaN</td>\n      <td>NaN</td>\n      <td>NaN</td>\n      <td>NaN</td>\n      <td>NaN</td>\n      <td>NaN</td>\n      <td>NaN</td>\n      <td>8.0</td>\n      <td>-9.96083</td>\n      <td>NaN</td>\n      <td>NaN</td>\n      <td>8.0</td>\n      <td>2.279088</td>\n    </tr>\n  </tbody>\n</table>\n<p>145 rows × 19 columns</p>\n</div>"
     },
     "metadata": {},
     "execution_count": 9
    }
   ],
   "source": [
    "df.head(145)"
   ]
  },
  {
   "cell_type": "code",
   "execution_count": 10,
   "metadata": {},
   "outputs": [
    {
     "output_type": "execute_result",
     "data": {
      "text/plain": [
       "ActivePower                         0\n",
       "AmbientTemperature                  0\n",
       "BearingShaftTemperature         32920\n",
       "Blade1PitchAngle                70644\n",
       "Blade2PitchAngle                70644\n",
       "Blade3PitchAngle                70644\n",
       "GearboxBearingTemperature       32920\n",
       "GearboxOilTemperature           32920\n",
       "GeneratorRPM                    32920\n",
       "GeneratorWinding1Temperature    32920\n",
       "GeneratorWinding2Temperature    32920\n",
       "HubTemperature                  32920\n",
       "MainBoxTemperature              32920\n",
       "NacellePosition                     0\n",
       "ReactivePower                       0\n",
       "RotorRPM                        32920\n",
       "TurbineStatus                   32928\n",
       "WindDirection                       0\n",
       "WindSpeed                           0\n",
       "dtype: int64"
      ]
     },
     "metadata": {},
     "execution_count": 10
    }
   ],
   "source": [
    "# It appears the turbine was off on the first day. Lets remove it.\n",
    "df = df.iloc[145:,:]\n",
    "df.isnull().sum()"
   ]
  },
  {
   "cell_type": "code",
   "execution_count": 11,
   "metadata": {},
   "outputs": [
    {
     "output_type": "execute_result",
     "data": {
      "text/plain": [
       "ActivePower                         0\n",
       "AmbientTemperature                  0\n",
       "BearingShaftTemperature             0\n",
       "Blade1PitchAngle                37724\n",
       "Blade2PitchAngle                37724\n",
       "Blade3PitchAngle                37724\n",
       "GearboxBearingTemperature           0\n",
       "GearboxOilTemperature               0\n",
       "GeneratorRPM                        0\n",
       "GeneratorWinding1Temperature        0\n",
       "GeneratorWinding2Temperature        0\n",
       "HubTemperature                      0\n",
       "MainBoxTemperature                  0\n",
       "NacellePosition                     0\n",
       "ReactivePower                       0\n",
       "RotorRPM                            0\n",
       "TurbineStatus                       8\n",
       "WindDirection                       0\n",
       "WindSpeed                           0\n",
       "dtype: int64"
      ]
     },
     "metadata": {},
     "execution_count": 11
    }
   ],
   "source": [
    "# If a column has a null value in some row,\n",
    "# Then every column that contains null values is null in that row.\n",
    "# I.e. the readings for various things were turned off simultaneously\n",
    "# Except for blade pitch angles, which were turned off more frequently.\n",
    "df[df.BearingShaftTemperature.isnull() == False].isnull().sum()"
   ]
  },
  {
   "cell_type": "code",
   "execution_count": 12,
   "metadata": {},
   "outputs": [
    {
     "output_type": "execute_result",
     "data": {
      "text/plain": [
       "ActivePower                     0\n",
       "AmbientTemperature              0\n",
       "BearingShaftTemperature         0\n",
       "Blade1PitchAngle                0\n",
       "Blade2PitchAngle                0\n",
       "Blade3PitchAngle                0\n",
       "GearboxBearingTemperature       0\n",
       "GearboxOilTemperature           0\n",
       "GeneratorRPM                    0\n",
       "GeneratorWinding1Temperature    0\n",
       "GeneratorWinding2Temperature    0\n",
       "HubTemperature                  0\n",
       "MainBoxTemperature              0\n",
       "NacellePosition                 0\n",
       "ReactivePower                   0\n",
       "RotorRPM                        0\n",
       "TurbineStatus                   0\n",
       "WindDirection                   0\n",
       "WindSpeed                       0\n",
       "dtype: int64"
      ]
     },
     "metadata": {},
     "execution_count": 12
    }
   ],
   "source": [
    "df[df.Blade1PitchAngle.isnull() == False].isnull().sum()"
   ]
  },
  {
   "cell_type": "code",
   "execution_count": null,
   "metadata": {},
   "outputs": [],
   "source": []
  },
  {
   "cell_type": "code",
   "execution_count": null,
   "metadata": {},
   "outputs": [],
   "source": []
  },
  {
   "cell_type": "code",
   "execution_count": null,
   "metadata": {},
   "outputs": [],
   "source": []
  },
  {
   "cell_type": "code",
   "execution_count": null,
   "metadata": {},
   "outputs": [],
   "source": []
  },
  {
   "cell_type": "code",
   "execution_count": null,
   "metadata": {},
   "outputs": [],
   "source": []
  }
 ]
}